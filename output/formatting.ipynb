{
 "cells": [
  {
   "attachments": {},
   "cell_type": "markdown",
   "metadata": {},
   "source": [
    "removing extra spaces"
   ]
  },
  {
   "cell_type": "code",
   "execution_count": 1,
   "metadata": {},
   "outputs": [],
   "source": [
    "def remove_extra_newlines(file_path):\n",
    "    with open(file_path, 'r', encoding='utf-8') as file:\n",
    "        content = file.read()\n",
    "\n",
    "    # Replace consecutive newlines with a single newline\n",
    "    content = content.replace('\\r', '')  # First, remove any carriage returns to handle Windows-style line endings\n",
    "    content = content.replace('\\n\\n', '\\n')  # Replace double newlines with a single newline\n",
    "\n",
    "    # Keep replacing double newlines until there are none left\n",
    "    while '\\n\\n' in content:\n",
    "        content = content.replace('\\n\\n', '\\n')\n",
    "\n",
    "    with open(file_path, 'w', encoding='utf-8') as file:\n",
    "        file.write(content)\n",
    "\n",
    "# Replace 'your_file.txt' with the path to your text file\n",
    "file_path = 'comments.txt'\n",
    "remove_extra_newlines(file_path)\n"
   ]
  },
  {
   "attachments": {},
   "cell_type": "markdown",
   "metadata": {},
   "source": [
    "splitting files in 2"
   ]
  },
  {
   "cell_type": "code",
   "execution_count": 2,
   "metadata": {},
   "outputs": [],
   "source": [
    "def split_file(file_path):\n",
    "    with open(file_path, 'r', encoding='utf-8') as file:\n",
    "        content = file.read()\n",
    "\n",
    "    # Find the middle point\n",
    "    middle_point = len(content) // 2\n",
    "\n",
    "    # Find the nearest newline character to the middle point\n",
    "    newline_position = content.find('\\n', middle_point)\n",
    "\n",
    "    # Split the content into two parts\n",
    "    part1 = content[:newline_position]\n",
    "    part2 = content[newline_position + 1:]\n",
    "\n",
    "    # Write the two parts into separate files\n",
    "    with open('part1.txt', 'w', encoding='utf-8') as file:\n",
    "        file.write(part1)\n",
    "\n",
    "    with open('part2.txt', 'w', encoding='utf-8') as file:\n",
    "        file.write(part2)\n",
    "\n",
    "# Replace 'your_file.txt' with the path to your text file\n",
    "file_path = 'comments.txt'\n",
    "split_file(file_path)\n"
   ]
  },
  {
   "attachments": {},
   "cell_type": "markdown",
   "metadata": {},
   "source": [
    "splitting file in 4"
   ]
  },
  {
   "cell_type": "code",
   "execution_count": null,
   "metadata": {},
   "outputs": [],
   "source": [
    "def split_file(file_path):\n",
    "    with open(file_path, 'r', encoding='utf-8') as file:\n",
    "        content = file.read()\n",
    "\n",
    "    # Calculate the split positions\n",
    "    split_positions = [\n",
    "        len(content) // 4,\n",
    "        len(content) // 2,\n",
    "        3 * len(content) // 4\n",
    "    ]\n",
    "\n",
    "    # Find the nearest newline characters to the split positions\n",
    "    newline_positions = [\n",
    "        content.find('\\n', position)\n",
    "        for position in split_positions\n",
    "    ]\n",
    "\n",
    "    # Split the content into four parts\n",
    "    part1 = content[:newline_positions[0]]\n",
    "    part2 = content[newline_positions[0] + 1:newline_positions[1]]\n",
    "    part3 = content[newline_positions[1] + 1:newline_positions[2]]\n",
    "    part4 = content[newline_positions[2] + 1:]\n",
    "\n",
    "    # Write the four parts into separate files\n",
    "    with open('part1.txt', 'w', encoding='utf-8') as file:\n",
    "        file.write(part1)\n",
    "\n",
    "    with open('part2.txt', 'w', encoding='utf-8') as file:\n",
    "        file.write(part2)\n",
    "\n",
    "    with open('part3.txt', 'w', encoding='utf-8') as file:\n",
    "        file.write(part3)\n",
    "\n",
    "    with open('part4.txt', 'w', encoding='utf-8') as file:\n",
    "        file.write(part4)\n",
    "\n",
    "# Replace 'your_file.txt' with the path to your text file\n",
    "file_path = 'comments.txt'\n",
    "split_file(file_path)\n"
   ]
  }
 ],
 "metadata": {
  "kernelspec": {
   "display_name": "Python 3",
   "language": "python",
   "name": "python3"
  },
  "language_info": {
   "codemirror_mode": {
    "name": "ipython",
    "version": 3
   },
   "file_extension": ".py",
   "mimetype": "text/x-python",
   "name": "python",
   "nbconvert_exporter": "python",
   "pygments_lexer": "ipython3",
   "version": "3.11.2"
  },
  "orig_nbformat": 4
 },
 "nbformat": 4,
 "nbformat_minor": 2
}
